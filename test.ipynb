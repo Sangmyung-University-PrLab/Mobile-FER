{
 "cells": [
  {
   "cell_type": "code",
   "execution_count": 11,
   "metadata": {},
   "outputs": [],
   "source": [
    "import numpy as np\n",
    "import pandas as pd\n",
    "\n",
    "newTrain = np.load(\"train_newpath.npy\", allow_pickle=True)\n",
    "newTest = np.load(\"test_newpath.npy\", allow_pickle=True)\n",
    "dfTrain = pd.DataFrame(newTrain, columns = ['subDirectory_filePath', 'expression', 'valence', 'arousal','d_Neutral', 'd_Happy', 'd_Sadness', 'd_Surprise', 'd_Fear',\n",
    "       'd_Disgust', 'd_Anger', 'd_Contempt', 'd_valence', 'd_arousal'])\n",
    "dfTest = pd.DataFrame(newTest, columns = ['subDirectory_filePath', 'expression', 'valence', 'arousal','d_Neutral', 'd_Happy', 'd_Sadness', 'd_Surprise', 'd_Fear',\n",
    "       'd_Disgust', 'd_Anger', 'd_Contempt', 'd_valence', 'd_arousal'])\n",
    "dfTrain['expression'] = dfTrain['expression'].astype('int')\n",
    "dfTrain['valence'] = dfTrain['valence'].astype('float32')\n",
    "dfTrain['arousal'] = dfTrain['arousal'].astype('float32')\n",
    "dfTrain['d_Neutral'] = dfTrain['d_Neutral'].astype('float32')\n",
    "dfTrain['d_Happy'] = dfTrain['d_Happy'].astype('float32')\n",
    "dfTrain['d_Sadness'] = dfTrain['d_Sadness'].astype('float32')\n",
    "dfTrain['d_Surprise'] = dfTrain['d_Surprise'].astype('float32')\n",
    "dfTrain['d_Fear'] = dfTrain['d_Fear'].astype('float32')\n",
    "dfTrain['d_Disgust'] = dfTrain['d_Disgust'].astype('float32')\n",
    "dfTrain['d_Anger'] = dfTrain['d_Anger'].astype('float32')\n",
    "dfTrain['d_Contempt'] = dfTrain['d_Contempt'].astype('float32')\n",
    "dfTrain['d_valence'] = dfTrain['d_valence'].astype('float32')\n",
    "dfTrain['d_arousal'] = dfTrain['d_arousal'].astype('float32')"
   ]
  },
  {
   "cell_type": "code",
   "execution_count": 14,
   "metadata": {},
   "outputs": [],
   "source": [
    "test = np.random.shuffle(newTrain)"
   ]
  },
  {
   "cell_type": "code",
   "execution_count": 16,
   "metadata": {},
   "outputs": [
    {
     "data": {
      "text/plain": [
       "array([['626/3610990eaf3b1341f234625f8e60bf799fef4d4f9f694b507d4ba638.jpg',\n",
       "        '1', '0.4682539999485016', ..., '-11.164689064025879',\n",
       "        '0.19875092804431915', '0.18601708114147186'],\n",
       "       ['1004/0ad6218671767d1f1c4d21cc41c6218a910b8179426137ac3ab9149f.jpg',\n",
       "        '1', '0.5279939770698547', ..., '-3.4012320041656494',\n",
       "        '0.012106301262974739', '0.2097415328025818'],\n",
       "       ['1211/8dae9d477b39ec1fce558c646dc688e60ec068777e6bd787cb7340a8.jpg',\n",
       "        '3', '-0.0211327001452446', ..., '-22.8729190826416',\n",
       "        '0.02785268798470497', '0.9298759698867798'],\n",
       "       ...,\n",
       "       ['334/c27dcebba3a35ff904094809d00f6174ca500d2f444e42e0a3f55621.jpg',\n",
       "        '0', '0.0431331992149353', ..., '-19.816896438598633',\n",
       "        '-0.42104431986808777', '0.5908225774765015'],\n",
       "       ['667/459ce066697e8c3d6972994573e67eec8d638b7372aee32deb078cc7.png',\n",
       "        '0', '0.18253999948501587', ..., '-16.877214431762695',\n",
       "        '-0.27399587631225586', '0.17451229691505432'],\n",
       "       ['708/515d8edbe331731594172d1fca801da694c9c392cf5b5b25c52f7f6c.jpg',\n",
       "        '2', '-0.6795200109481812', ..., '-16.18528175354004',\n",
       "        '-0.47858622670173645', '0.25958123803138733']], dtype='<U66')"
      ]
     },
     "execution_count": 16,
     "metadata": {},
     "output_type": "execute_result"
    }
   ],
   "source": [
    "newTrain"
   ]
  },
  {
   "cell_type": "code",
   "execution_count": 15,
   "metadata": {},
   "outputs": [],
   "source": [
    "test"
   ]
  },
  {
   "cell_type": "code",
   "execution_count": 9,
   "metadata": {},
   "outputs": [],
   "source": [
    "for getitem in newTrain:\n",
    "    filepath, expression, valence, arousal, d_neutrral, d_happy, d_sadness, d_surprise, d_fear, d_disgust, d_anger, d_contempt, d_valence, d_arousal = getitem\n",
    "    if not os.path.isfile(\"./Manually_Annotated_Images/\" + filepath):\n",
    "        print(filepath)"
   ]
  },
  {
   "cell_type": "code",
   "execution_count": 10,
   "metadata": {},
   "outputs": [],
   "source": [
    "for getitem in newTest:\n",
    "    filepath, expression, valence, arousal, d_neutrral, d_happy, d_sadness, d_surprise, d_fear, d_disgust, d_anger, d_contempt, d_valence, d_arousal = getitem\n",
    "    if not os.path.isfile(\"./Manually_Annotated_Images/\" + filepath):\n",
    "        print(filepath)"
   ]
  },
  {
   "cell_type": "code",
   "execution_count": 4,
   "metadata": {},
   "outputs": [
    {
     "data": {
      "text/plain": [
       "'0.14558307826519012'"
      ]
     },
     "execution_count": 4,
     "metadata": {},
     "output_type": "execute_result"
    }
   ],
   "source": [
    "d_arousal"
   ]
  },
  {
   "cell_type": "code",
   "execution_count": 5,
   "metadata": {},
   "outputs": [
    {
     "data": {
      "text/plain": [
       "0         0.145583\n",
       "1         0.093400\n",
       "2        -0.192157\n",
       "3         0.631902\n",
       "4         0.372333\n",
       "            ...   \n",
       "261077    0.422636\n",
       "261078   -0.309323\n",
       "261079   -0.246805\n",
       "261080   -0.090341\n",
       "261081   -0.024668\n",
       "Name: d_arousal, Length: 261082, dtype: float32"
      ]
     },
     "execution_count": 5,
     "metadata": {},
     "output_type": "execute_result"
    }
   ],
   "source": [
    "dfTrain['d_arousal']"
   ]
  },
  {
   "cell_type": "code",
   "execution_count": null,
   "metadata": {},
   "outputs": [],
   "source": []
  }
 ],
 "metadata": {
  "kernelspec": {
   "display_name": "Python 3",
   "language": "python",
   "name": "python3"
  },
  "language_info": {
   "codemirror_mode": {
    "name": "ipython",
    "version": 3
   },
   "file_extension": ".py",
   "mimetype": "text/x-python",
   "name": "python",
   "nbconvert_exporter": "python",
   "pygments_lexer": "ipython3",
   "version": "3.8.6"
  },
  "orig_nbformat": 4,
  "vscode": {
   "interpreter": {
    "hash": "178c1d44311f68ed37e651a7c38c70d37afe24fe25dcbe12f4105c2dadf2bf57"
   }
  }
 },
 "nbformat": 4,
 "nbformat_minor": 2
}
